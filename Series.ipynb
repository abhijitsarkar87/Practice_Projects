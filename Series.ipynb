{
 "cells": [
  {
   "cell_type": "code",
   "execution_count": 1,
   "id": "8a146a26",
   "metadata": {},
   "outputs": [],
   "source": [
    "import pandas as pd\n",
    "import numpy as np"
   ]
  },
  {
   "cell_type": "code",
   "execution_count": 2,
   "id": "8b9ee78c",
   "metadata": {},
   "outputs": [],
   "source": [
    "import warnings\n",
    "warnings.filterwarnings('ignore')"
   ]
  },
  {
   "cell_type": "code",
   "execution_count": 3,
   "id": "26b43898",
   "metadata": {},
   "outputs": [
    {
     "data": {
      "text/plain": [
       "<IntegerArray>\n",
       "[1, 2, 3, 4, 5]\n",
       "Length: 5, dtype: Int64"
      ]
     },
     "execution_count": 3,
     "metadata": {},
     "output_type": "execute_result"
    }
   ],
   "source": [
    "f=pd.array([1,2,3,4,5])\n",
    "f"
   ]
  },
  {
   "cell_type": "code",
   "execution_count": 4,
   "id": "6172f6dd",
   "metadata": {},
   "outputs": [
    {
     "data": {
      "text/plain": [
       "0    1\n",
       "1    2\n",
       "2    3\n",
       "3    4\n",
       "4    5\n",
       "5    6\n",
       "dtype: int64"
      ]
     },
     "execution_count": 4,
     "metadata": {},
     "output_type": "execute_result"
    }
   ],
   "source": [
    "f=pd.Series([1,2,3,4,5,6])\n",
    "f"
   ]
  },
  {
   "cell_type": "code",
   "execution_count": null,
   "id": "21c9841e",
   "metadata": {},
   "outputs": [],
   "source": []
  },
  {
   "cell_type": "code",
   "execution_count": 5,
   "id": "2e9992db",
   "metadata": {},
   "outputs": [
    {
     "name": "stdout",
     "output_type": "stream",
     "text": [
      "[1, 2, 3, 4, 5, 6]\n",
      "<class 'list'>\n"
     ]
    }
   ],
   "source": [
    "# convert pandas to list\n",
    "box=[]\n",
    "\n",
    "for i in f:\n",
    "    box.append(i)\n",
    "print(box)\n",
    "\n",
    "print(type(box))"
   ]
  },
  {
   "cell_type": "code",
   "execution_count": 7,
   "id": "0154a933",
   "metadata": {},
   "outputs": [
    {
     "name": "stdout",
     "output_type": "stream",
     "text": [
      "0    1\n",
      "1    2\n",
      "2    3\n",
      "3    4\n",
      "4    5\n",
      "dtype: int64\n",
      "<class 'pandas.core.series.Series'>\n",
      "Convert pandas to list\n",
      "[1, 2, 3, 4, 5] <class 'list'>\n"
     ]
    }
   ],
   "source": [
    "# covert pandas to list\n",
    "\n",
    "ds=pd.Series([1,2,3,4,5])\n",
    "print(ds)\n",
    "print(type(ds))\n",
    "\n",
    "print(\"Convert pandas to list\")\n",
    "d_list=ds.tolist()\n",
    "print(d_list,type(d_list))"
   ]
  },
  {
   "cell_type": "code",
   "execution_count": 10,
   "id": "da1c275b",
   "metadata": {},
   "outputs": [],
   "source": [
    "g=np.array([1,2,3,4,5])"
   ]
  },
  {
   "cell_type": "code",
   "execution_count": 11,
   "id": "4fb31c83",
   "metadata": {},
   "outputs": [
    {
     "data": {
      "text/plain": [
       "numpy.ndarray"
      ]
     },
     "execution_count": 11,
     "metadata": {},
     "output_type": "execute_result"
    }
   ],
   "source": [
    "type(g)"
   ]
  },
  {
   "cell_type": "code",
   "execution_count": 13,
   "id": "c3463dba",
   "metadata": {},
   "outputs": [
    {
     "data": {
      "text/plain": [
       "[1, 2, 3, 4, 5]"
      ]
     },
     "execution_count": 13,
     "metadata": {},
     "output_type": "execute_result"
    }
   ],
   "source": [
    "g.tolist()"
   ]
  },
  {
   "cell_type": "code",
   "execution_count": 19,
   "id": "e96e7495",
   "metadata": {},
   "outputs": [
    {
     "name": "stdout",
     "output_type": "stream",
     "text": [
      "Add two Series\n",
      "-----------------\n",
      " 0     3\n",
      "1     7\n",
      "2    11\n",
      "3    15\n",
      "4    19\n",
      "dtype: int64 \n",
      "Substract two Series\n",
      "------------\n",
      " 0    1\n",
      "1    1\n",
      "2    1\n",
      "3    1\n",
      "4    1\n",
      "dtype: int64 \n",
      "Multiply Two Series\n",
      "-------------------------\n",
      " 0     2\n",
      "1    12\n",
      "2    30\n",
      "3    56\n",
      "4    90\n",
      "dtype: int64 \n",
      "Divide two Series\n",
      "------------------\n",
      " 0    2.000000\n",
      "1    1.333333\n",
      "2    1.200000\n",
      "3    1.142857\n",
      "4    1.111111\n",
      "dtype: float64\n"
     ]
    }
   ],
   "source": [
    "# pandas program to add,substract,multiply, divide two series\n",
    "\n",
    "a=pd.Series([2,4,6,8,10])\n",
    "b=pd.Series([1,3,5,7,9])\n",
    "\n",
    "print(\"Add two Series\\n-----------------\\n\",a+b,\n",
    "      \"\\nSubstract two Series\\n------------\\n\",a-b,\n",
    "      \"\\nMultiply Two Series\\n-------------------------\\n\",a*b,\n",
    "      \"\\nDivide two Series\\n------------------\\n\",a/b)"
   ]
  },
  {
   "cell_type": "code",
   "execution_count": 22,
   "id": "6803c24f",
   "metadata": {},
   "outputs": [
    {
     "name": "stdout",
     "output_type": "stream",
     "text": [
      "A is greater then B\n",
      "-----------\n",
      " 0     True\n",
      "1     True\n",
      "2     True\n",
      "3     True\n",
      "4    False\n",
      "dtype: bool\n",
      "B is less then A\n",
      "--------------\n",
      " 0    False\n",
      "1    False\n",
      "2    False\n",
      "3    False\n",
      "4    False\n",
      "dtype: bool\n",
      "A is equal to B\n",
      "--------------\n",
      " 0    False\n",
      "1    False\n",
      "2    False\n",
      "3    False\n",
      "4     True\n",
      "dtype: bool\n",
      "A is not equal to B\n",
      "----------\n",
      " 0     True\n",
      "1     True\n",
      "2     True\n",
      "3     True\n",
      "4    False\n",
      "dtype: bool\n"
     ]
    }
   ],
   "source": [
    "# compare the elements of two Pandas Series\n",
    "a=pd.Series([2,4,6,8,10])\n",
    "b=pd.Series([1,3,5,7,10])\n",
    "\n",
    "print(\"A is greater then B\\n-----------\\n\",a>b)\n",
    "print(\"B is less then A\\n--------------\\n\",a<b)\n",
    "print(\"A is equal to B\\n--------------\\n\",a==b)\n",
    "print(\"A is not equal to B\\n----------\\n\",a!=b)"
   ]
  },
  {
   "cell_type": "code",
   "execution_count": 24,
   "id": "80b67dfa",
   "metadata": {},
   "outputs": [
    {
     "name": "stdout",
     "output_type": "stream",
     "text": [
      "Original Dictinary\n"
     ]
    }
   ],
   "source": [
    "# Convert Pandas Program to Convert a dictionary to a Pandas series\n",
    "print(\"Original Dictinary\")\n",
    "f={'a':100,'b':200,'c':300,'d':400,'e':800}\n",
    "new_Series=pd.Series(data=f)"
   ]
  },
  {
   "cell_type": "code",
   "execution_count": 25,
   "id": "28c859e2",
   "metadata": {},
   "outputs": [
    {
     "name": "stdout",
     "output_type": "stream",
     "text": [
      "a    100\n",
      "b    200\n",
      "c    300\n",
      "d    400\n",
      "e    800\n",
      "dtype: int64\n"
     ]
    }
   ],
   "source": [
    "print(new_Series)"
   ]
  },
  {
   "cell_type": "code",
   "execution_count": 26,
   "id": "56a2b8c1",
   "metadata": {},
   "outputs": [
    {
     "name": "stdout",
     "output_type": "stream",
     "text": [
      "<class 'numpy.ndarray'>\n"
     ]
    }
   ],
   "source": [
    "# convert a NumpY array to a Pandas Series\n",
    "p=np.array([1,2,3,4,5])\n",
    "print(type(p))"
   ]
  },
  {
   "cell_type": "code",
   "execution_count": 27,
   "id": "eb392b8a",
   "metadata": {},
   "outputs": [
    {
     "name": "stdout",
     "output_type": "stream",
     "text": [
      "<class 'pandas.core.series.Series'>\n"
     ]
    }
   ],
   "source": [
    "ds=pd.Series(data=p)\n",
    "print(type(ds))"
   ]
  },
  {
   "cell_type": "code",
   "execution_count": 28,
   "id": "4d8ce6c7",
   "metadata": {},
   "outputs": [
    {
     "data": {
      "text/plain": [
       "0    1\n",
       "1    2\n",
       "2    3\n",
       "3    4\n",
       "4    5\n",
       "dtype: int32"
      ]
     },
     "execution_count": 28,
     "metadata": {},
     "output_type": "execute_result"
    }
   ],
   "source": [
    "ds"
   ]
  },
  {
   "cell_type": "code",
   "execution_count": 35,
   "id": "356b651e",
   "metadata": {},
   "outputs": [
    {
     "data": {
      "text/plain": [
       "0       100\n",
       "1       300\n",
       "2    Python\n",
       "3    300.12\n",
       "4       400\n",
       "dtype: object"
      ]
     },
     "execution_count": 35,
     "metadata": {},
     "output_type": "execute_result"
    }
   ],
   "source": [
    "# Pandas Program to change the data type of a column or a Series\n",
    "x=pd.Series(['100',300,'Python',300.12,'400'])\n",
    "df=pd.Series(data=x,dtype=float)\n",
    "df"
   ]
  },
  {
   "cell_type": "code",
   "execution_count": 36,
   "id": "50c99be1",
   "metadata": {},
   "outputs": [
    {
     "name": "stdout",
     "output_type": "stream",
     "text": [
      "Change the said data type to Numeric:\n",
      "0    100.00\n",
      "1    300.00\n",
      "2       NaN\n",
      "3    300.12\n",
      "4    400.00\n",
      "dtype: float64\n"
     ]
    }
   ],
   "source": [
    "print(\"Change the said data type to Numeric:\")\n",
    "s2=pd.to_numeric(df,errors='coerce')\n",
    "print(s2)"
   ]
  },
  {
   "cell_type": "code",
   "execution_count": 39,
   "id": "b854870a",
   "metadata": {},
   "outputs": [
    {
     "data": {
      "text/plain": [
       "0     1\n",
       "1     2\n",
       "2     3\n",
       "3     4\n",
       "4     7\n",
       "5    11\n",
       "Name: Col1, dtype: int64"
      ]
     },
     "execution_count": 39,
     "metadata": {},
     "output_type": "execute_result"
    }
   ],
   "source": [
    "# write a Pandas Program to convert the first column of a Data Frame as a Series\n",
    "f=pd.DataFrame(data={\"Col1\":[1,2,3,4,7,11],\"Col2\":[4,5,6,9,5,0],\"Col3\":[7,5,8,12,1,11]})\n",
    "pd.Series(data=f['Col1'])"
   ]
  },
  {
   "cell_type": "code",
   "execution_count": 41,
   "id": "515312a3",
   "metadata": {},
   "outputs": [
    {
     "data": {
      "text/plain": [
       "0     1\n",
       "1     2\n",
       "2     3\n",
       "3     4\n",
       "4     7\n",
       "5    11\n",
       "Name: Col1, dtype: int64"
      ]
     },
     "execution_count": 41,
     "metadata": {},
     "output_type": "execute_result"
    }
   ],
   "source": [
    "# iloc all rows and 1 column\n",
    "s1=f.iloc[:,0]\n",
    "s1"
   ]
  },
  {
   "cell_type": "code",
   "execution_count": 43,
   "id": "11390ab6",
   "metadata": {},
   "outputs": [],
   "source": [
    "# Write a Pandas to convert a given Series to an array\n",
    "\n",
    "f=pd.Series([100,200,'python','300.12',400])\n",
    "g=pd.array(f)"
   ]
  },
  {
   "cell_type": "code",
   "execution_count": 44,
   "id": "89d66b51",
   "metadata": {},
   "outputs": [
    {
     "data": {
      "text/plain": [
       "pandas.core.arrays.numpy_.PandasArray"
      ]
     },
     "execution_count": 44,
     "metadata": {},
     "output_type": "execute_result"
    }
   ],
   "source": [
    "type(g)"
   ]
  },
  {
   "cell_type": "code",
   "execution_count": 45,
   "id": "15b275e0",
   "metadata": {},
   "outputs": [
    {
     "data": {
      "text/plain": [
       "array([100, 200, 'python', '300.12', 400], dtype=object)"
      ]
     },
     "execution_count": 45,
     "metadata": {},
     "output_type": "execute_result"
    }
   ],
   "source": [
    "f.values"
   ]
  },
  {
   "cell_type": "code",
   "execution_count": 46,
   "id": "a4e93ae6",
   "metadata": {},
   "outputs": [
    {
     "data": {
      "text/plain": [
       "<bound method NDArrayBackedExtensionArray.value_counts of <PandasArray>\n",
       "[100, 200, 'python', '300.12', 400]\n",
       "Length: 5, dtype: object>"
      ]
     },
     "execution_count": 46,
     "metadata": {},
     "output_type": "execute_result"
    }
   ],
   "source": [
    "g.value_counts"
   ]
  },
  {
   "cell_type": "code",
   "execution_count": 48,
   "id": "d823459d",
   "metadata": {},
   "outputs": [
    {
     "name": "stdout",
     "output_type": "stream",
     "text": [
      "<class 'pandas.core.series.Series'>\n"
     ]
    }
   ],
   "source": [
    "print(type(a))"
   ]
  },
  {
   "cell_type": "code",
   "execution_count": 62,
   "id": "3213eec6",
   "metadata": {},
   "outputs": [
    {
     "data": {
      "text/plain": [
       "0    [Red, Green, White]\n",
       "1           [Red, Black]\n",
       "2               [Yellow]\n",
       "dtype: object"
      ]
     },
     "execution_count": 62,
     "metadata": {},
     "output_type": "execute_result"
    }
   ],
   "source": [
    "# Pandas Program to convert Series of lists to one Series\n",
    "a=['Red','Green','White']\n",
    "b=['Red','Black']\n",
    "c=['Yellow']\n",
    "\n",
    "f=pd.Series([\n",
    "    ['Red','Green','White'],\n",
    "['Red','Black'],\n",
    "['Yellow']])\n",
    "f"
   ]
  },
  {
   "cell_type": "code",
   "execution_count": 55,
   "id": "391092d7",
   "metadata": {},
   "outputs": [],
   "source": [
    "ds=pd.Series(data=[a,b,c])"
   ]
  },
  {
   "cell_type": "code",
   "execution_count": 63,
   "id": "0eec4220",
   "metadata": {},
   "outputs": [
    {
     "name": "stdout",
     "output_type": "stream",
     "text": [
      "Original Series of List\n",
      "0    [Red, Green, White]\n",
      "1           [Red, Black]\n",
      "2               [Yellow]\n",
      "dtype: object\n",
      "0       Red\n",
      "1     Green\n",
      "2     White\n",
      "3       Red\n",
      "4     Black\n",
      "5    Yellow\n",
      "dtype: object\n"
     ]
    }
   ],
   "source": [
    "print(\"Original Series of List\")\n",
    "print(f)\n",
    "\n",
    "s=f.apply(pd.Series).stack().reset_index(drop=True)\n",
    "print(s)\n"
   ]
  },
  {
   "cell_type": "code",
   "execution_count": 78,
   "id": "9ea4e4d6",
   "metadata": {},
   "outputs": [
    {
     "name": "stdout",
     "output_type": "stream",
     "text": [
      "Original Data Series:\n",
      "0       100\n",
      "1         2\n",
      "2         3\n",
      "3    Python\n",
      "4    300.12\n",
      "5       400\n",
      "dtype: object\n"
     ]
    }
   ],
   "source": [
    "# pandas Program to sort a given Series\n",
    "\n",
    "# old Series\n",
    "f=pd.Series(data=['100','2','3','Python','300.12','400'])\n",
    "print(\"Original Data Series:\")\n",
    "print(f)"
   ]
  },
  {
   "cell_type": "code",
   "execution_count": 79,
   "id": "624a0038",
   "metadata": {},
   "outputs": [
    {
     "data": {
      "text/plain": [
       "0       100\n",
       "1         2\n",
       "2         3\n",
       "4    300.12\n",
       "5       400\n",
       "3    Python\n",
       "dtype: object"
      ]
     },
     "execution_count": 79,
     "metadata": {},
     "output_type": "execute_result"
    }
   ],
   "source": [
    "# New Series\n",
    "pd.Series(f).sort_values()"
   ]
  },
  {
   "cell_type": "code",
   "execution_count": 80,
   "id": "84ff82e7",
   "metadata": {},
   "outputs": [
    {
     "name": "stdout",
     "output_type": "stream",
     "text": [
      "Original Data Series:\n"
     ]
    },
    {
     "data": {
      "text/plain": [
       "0       100\n",
       "1       200\n",
       "2    Python\n",
       "3    300.12\n",
       "4       400\n",
       "dtype: object"
      ]
     },
     "execution_count": 80,
     "metadata": {},
     "output_type": "execute_result"
    }
   ],
   "source": [
    "# Write Pandas Program to add some data to an existing Series\n",
    "print(\"Original Data Series:\")\n",
    "s=pd.Series(data=[100,200,'Python',300.12,400])\n",
    "s"
   ]
  },
  {
   "cell_type": "code",
   "execution_count": 86,
   "id": "b28950bc",
   "metadata": {},
   "outputs": [
    {
     "name": "stdout",
     "output_type": "stream",
     "text": [
      "\n",
      "Data Series after adding some data:\n"
     ]
    },
    {
     "data": {
      "text/plain": [
       "0       100\n",
       "1       200\n",
       "2    Python\n",
       "3    300.12\n",
       "4       400\n",
       "5       php\n",
       "dtype: object"
      ]
     },
     "execution_count": 86,
     "metadata": {},
     "output_type": "execute_result"
    }
   ],
   "source": [
    "print(\"\\nData Series after adding some data:\")\n",
    "new_s=pd.concat([s,pd.Series(['php'])],ignore_index=True)\n",
    "new_s"
   ]
  },
  {
   "cell_type": "code",
   "execution_count": 87,
   "id": "a74ddc67",
   "metadata": {},
   "outputs": [
    {
     "name": "stdout",
     "output_type": "stream",
     "text": [
      "Original Data Series:\n",
      "0      0\n",
      "1      1\n",
      "2      2\n",
      "3      3\n",
      "4      4\n",
      "5      5\n",
      "6      6\n",
      "7      7\n",
      "8      8\n",
      "9      9\n",
      "10    10\n",
      "dtype: int64\n",
      "SUbset of the above given Series:\n"
     ]
    },
    {
     "data": {
      "text/plain": [
       "7      7\n",
       "8      8\n",
       "9      9\n",
       "10    10\n",
       "dtype: int64"
      ]
     },
     "execution_count": 87,
     "metadata": {},
     "output_type": "execute_result"
    }
   ],
   "source": [
    "# Write a Pandas Program to create a subset of a given series based on values and condition \n",
    "\n",
    "s=pd.Series([0,1,2,3,4,5,6,7,8,9,10])\n",
    "print(\"Original Data Series:\")\n",
    "print(s)\n",
    "\n",
    "print(\"SUbset of the above given Series:\")\n",
    "n=6\n",
    "new_s=s[s>n]\n",
    "new_s"
   ]
  },
  {
   "cell_type": "code",
   "execution_count": 91,
   "id": "b278b13c",
   "metadata": {},
   "outputs": [
    {
     "name": "stdout",
     "output_type": "stream",
     "text": [
      "Original Data Series\n",
      "A    1\n",
      "B    2\n",
      "C    3\n",
      "D    4\n",
      "E    5\n",
      "dtype: int64\n",
      "Data Series after changing the order of Index\n"
     ]
    },
    {
     "data": {
      "text/plain": [
       "B    2\n",
       "A    1\n",
       "C    3\n",
       "D    4\n",
       "E    5\n",
       "dtype: int64"
      ]
     },
     "execution_count": 91,
     "metadata": {},
     "output_type": "execute_result"
    }
   ],
   "source": [
    "# write a Pandas Program to change the order of index of given series\n",
    "\n",
    "data_series=pd.Series(data=[1,2,3,4,5],index=['A','B','C','D','E'])\n",
    "print(\"Original Data Series\")\n",
    "print(data_series)\n",
    "\n",
    "# changing the oder of the index\n",
    "\n",
    "new_data_series=data_series.reindex(index=['B',\"A\",'C','D','E'])\n",
    "print(\"Data Series after changing the order of Index\")\n",
    "new_data_series\n"
   ]
  },
  {
   "cell_type": "code",
   "execution_count": 93,
   "id": "5e1ed7c0",
   "metadata": {},
   "outputs": [
    {
     "name": "stdout",
     "output_type": "stream",
     "text": [
      "Original Data Series\n",
      "0    1\n",
      "1    2\n",
      "2    3\n",
      "3    4\n",
      "4    5\n",
      "dtype: int64\n",
      "Data Series Mean 3.0\n",
      "Data Series STD 1.5811388300841898\n"
     ]
    }
   ],
   "source": [
    "# write a Pandas Program to create the mean and std deviation of the data of a given series\n",
    "ds=pd.Series([1,2,3,4,5])\n",
    "print(\"Original Data Series\")\n",
    "print(ds)\n",
    "\n",
    "print(\"Data Series Mean\",ds.mean())\n",
    "print(\"Data Series STD\",ds.std())"
   ]
  },
  {
   "cell_type": "code",
   "execution_count": 98,
   "id": "8140bd02",
   "metadata": {},
   "outputs": [
    {
     "name": "stdout",
     "output_type": "stream",
     "text": [
      "Data Series 1\n",
      " 0    1\n",
      "1    2\n",
      "2    3\n",
      "3    4\n",
      "4    5\n",
      "dtype: int64\n",
      "Data Series 2\n",
      " 0     2\n",
      "1     4\n",
      "2     6\n",
      "3     8\n",
      "4    10\n",
      "dtype: int64\n",
      "Checking Items that are not Present in another given Series\n"
     ]
    },
    {
     "data": {
      "text/plain": [
       "0    1\n",
       "2    3\n",
       "4    5\n",
       "dtype: int64"
      ]
     },
     "execution_count": 98,
     "metadata": {},
     "output_type": "execute_result"
    }
   ],
   "source": [
    "# write  Pandas program to get the items of a given series not present in another given series\n",
    "sr1=pd.Series(data=[1,2,3,4,5])\n",
    "print(\"Data Series 1\\n\",sr1)\n",
    "sr2=pd.Series(data=[2,4,6,8,10])\n",
    "print(\"Data Series 2\\n\",sr2)\n",
    "\n",
    "print(\"Checking Items that are not Present in another given Series\")\n",
    "result=sr1[~sr1.isin(sr2)]\n",
    "result"
   ]
  },
  {
   "cell_type": "code",
   "execution_count": 102,
   "id": "91ea953d",
   "metadata": {},
   "outputs": [
    {
     "data": {
      "text/plain": [
       "1    2\n",
       "3    4\n",
       "dtype: int64"
      ]
     },
     "execution_count": 102,
     "metadata": {},
     "output_type": "execute_result"
    }
   ],
   "source": [
    "# will show is in \n",
    "sr1[sr1.isin(sr2)]"
   ]
  },
  {
   "cell_type": "code",
   "execution_count": 103,
   "id": "99eb8cd4",
   "metadata": {},
   "outputs": [
    {
     "data": {
      "text/plain": [
       "0    1\n",
       "1    2\n",
       "2    3\n",
       "3    4\n",
       "4    5\n",
       "dtype: int64"
      ]
     },
     "execution_count": 103,
     "metadata": {},
     "output_type": "execute_result"
    }
   ],
   "source": [
    "sr1"
   ]
  },
  {
   "cell_type": "code",
   "execution_count": 104,
   "id": "f7aac1a5",
   "metadata": {},
   "outputs": [
    {
     "data": {
      "text/plain": [
       "0     2\n",
       "1     4\n",
       "2     6\n",
       "3     8\n",
       "4    10\n",
       "dtype: int64"
      ]
     },
     "execution_count": 104,
     "metadata": {},
     "output_type": "execute_result"
    }
   ],
   "source": [
    "sr2"
   ]
  },
  {
   "cell_type": "code",
   "execution_count": 105,
   "id": "7c263618",
   "metadata": {},
   "outputs": [
    {
     "data": {
      "text/plain": [
       "0    1\n",
       "2    3\n",
       "4    5\n",
       "dtype: int64"
      ]
     },
     "execution_count": 105,
     "metadata": {},
     "output_type": "execute_result"
    }
   ],
   "source": [
    "sr1[~sr1.isin(sr2)]"
   ]
  },
  {
   "cell_type": "code",
   "execution_count": 115,
   "id": "c9262aff",
   "metadata": {
    "scrolled": true
   },
   "outputs": [
    {
     "name": "stdout",
     "output_type": "stream",
     "text": [
      "0    18\n",
      "1    19\n",
      "2    26\n",
      "3    22\n",
      "4    25\n",
      "5    10\n",
      "dtype: int32\n"
     ]
    },
    {
     "data": {
      "text/plain": [
       "0.25    18.25\n",
       "dtype: float64"
      ]
     },
     "execution_count": 115,
     "metadata": {},
     "output_type": "execute_result"
    }
   ],
   "source": [
    "# find 25 th percentile,50th percentile and 75th percentile and max\n",
    "\n",
    "data_ser=pd.Series(data=np.random.randint(10,30,6)\n",
    "                  )\n",
    "print(data_ser)\n",
    "data_ser.quantile([0.25])"
   ]
  },
  {
   "cell_type": "code",
   "execution_count": 117,
   "id": "10b6ae72",
   "metadata": {},
   "outputs": [
    {
     "data": {
      "text/plain": [
       "0    10.00\n",
       "1    18.25\n",
       "2    20.50\n",
       "3    24.25\n",
       "4    26.00\n",
       "dtype: float64"
      ]
     },
     "execution_count": 117,
     "metadata": {},
     "output_type": "execute_result"
    }
   ],
   "source": [
    "pd.Series(data=np.percentile(data_ser,[0,25,50,75,100]))"
   ]
  },
  {
   "cell_type": "code",
   "execution_count": 120,
   "id": "afeb4f04",
   "metadata": {},
   "outputs": [
    {
     "name": "stdout",
     "output_type": "stream",
     "text": [
      "ds= \n",
      "Checking the Unique count Frequency\n"
     ]
    },
    {
     "data": {
      "text/plain": [
       "3    5\n",
       "0    4\n",
       "4    3\n",
       "7    3\n",
       "8    2\n",
       "2    1\n",
       "5    1\n",
       "1    1\n",
       "dtype: int64"
      ]
     },
     "execution_count": 120,
     "metadata": {},
     "output_type": "execute_result"
    }
   ],
   "source": [
    "# calculate the frequency of unique values of a given series\n",
    "ds=pd.Series(data=np.random.randint(0,10,20))\n",
    "print(\"ds= \",)\n",
    "\n",
    "print(\"Checking the Unique count Frequency\")\n",
    "ds.value_counts()"
   ]
  },
  {
   "cell_type": "code",
   "execution_count": 124,
   "id": "f2dfe3b4",
   "metadata": {
    "scrolled": true
   },
   "outputs": [
    {
     "name": "stdout",
     "output_type": "stream",
     "text": [
      "Original number\n",
      "0     2\n",
      "1     7\n",
      "2     6\n",
      "3     2\n",
      "4     4\n",
      "5     4\n",
      "6     9\n",
      "7     0\n",
      "8     9\n",
      "9     4\n",
      "10    1\n",
      "11    7\n",
      "12    5\n",
      "13    8\n",
      "14    8\n",
      "15    7\n",
      "16    1\n",
      "17    8\n",
      "18    6\n",
      "19    8\n",
      "20    9\n",
      "21    1\n",
      "22    5\n",
      "23    5\n",
      "24    1\n",
      "25    3\n",
      "26    1\n",
      "27    7\n",
      "28    0\n",
      "29    7\n",
      "30    2\n",
      "31    1\n",
      "32    0\n",
      "33    1\n",
      "34    5\n",
      "35    9\n",
      "36    9\n",
      "37    2\n",
      "38    5\n",
      "39    5\n",
      "dtype: object\n",
      "Frequency of Unique Counts\n"
     ]
    },
    {
     "data": {
      "text/plain": [
       "1    7\n",
       "5    6\n",
       "7    5\n",
       "9    5\n",
       "2    4\n",
       "8    4\n",
       "4    3\n",
       "0    3\n",
       "6    2\n",
       "3    1\n",
       "dtype: int64"
      ]
     },
     "execution_count": 124,
     "metadata": {},
     "output_type": "execute_result"
    }
   ],
   "source": [
    "num_ser=pd.Series(np.take(list('0123456789'),np.random.randint(10,size=40)))\n",
    "print(\"Original number\")\n",
    "print(num_ser)\n",
    "\n",
    "print(\"Frequency of Unique Counts\")\n",
    "num_ser.value_counts()"
   ]
  },
  {
   "cell_type": "code",
   "execution_count": 127,
   "id": "d37f8676",
   "metadata": {},
   "outputs": [
    {
     "data": {
      "text/plain": [
       "0     3\n",
       "1     3\n",
       "2     4\n",
       "3     1\n",
       "4     3\n",
       "5     4\n",
       "6     4\n",
       "7     1\n",
       "8     1\n",
       "9     1\n",
       "10    4\n",
       "11    4\n",
       "12    1\n",
       "13    4\n",
       "14    1\n",
       "dtype: int32"
      ]
     },
     "execution_count": 127,
     "metadata": {},
     "output_type": "execute_result"
    }
   ],
   "source": [
    "# Write a pandas program to display most frequent values in a given series and replace everything else as 'Other' in the series\n",
    "\n",
    "num_series=pd.Series(data=np.random.randint(1,5,[15]))\n",
    "num_series"
   ]
  },
  {
   "cell_type": "code",
   "execution_count": 130,
   "id": "9e807c6c",
   "metadata": {},
   "outputs": [
    {
     "data": {
      "text/plain": [
       "array([3, 4, 1])"
      ]
     },
     "execution_count": 130,
     "metadata": {},
     "output_type": "execute_result"
    }
   ],
   "source": [
    "num_series.unique()"
   ]
  },
  {
   "cell_type": "code",
   "execution_count": 131,
   "id": "a2483a40",
   "metadata": {},
   "outputs": [
    {
     "name": "stdout",
     "output_type": "stream",
     "text": [
      "Most frequent item\n"
     ]
    },
    {
     "data": {
      "text/plain": [
       "4    6\n",
       "1    6\n",
       "3    3\n",
       "dtype: int64"
      ]
     },
     "execution_count": 131,
     "metadata": {},
     "output_type": "execute_result"
    }
   ],
   "source": [
    "print(\"Most frequent item\")\n",
    "num_series.value_counts()"
   ]
  },
  {
   "cell_type": "code",
   "execution_count": 136,
   "id": "a8fa3b87",
   "metadata": {},
   "outputs": [],
   "source": [
    "num_series[~num_series.isin(num_series.value_counts().index[:1])]='Other'"
   ]
  },
  {
   "cell_type": "code",
   "execution_count": 137,
   "id": "4a9169f3",
   "metadata": {},
   "outputs": [
    {
     "data": {
      "text/plain": [
       "0     Other\n",
       "1     Other\n",
       "2         4\n",
       "3     Other\n",
       "4     Other\n",
       "5         4\n",
       "6         4\n",
       "7     Other\n",
       "8     Other\n",
       "9     Other\n",
       "10        4\n",
       "11        4\n",
       "12    Other\n",
       "13        4\n",
       "14    Other\n",
       "dtype: object"
      ]
     },
     "execution_count": 137,
     "metadata": {},
     "output_type": "execute_result"
    }
   ],
   "source": [
    "num_series"
   ]
  },
  {
   "cell_type": "code",
   "execution_count": 148,
   "id": "74b66214",
   "metadata": {},
   "outputs": [
    {
     "data": {
      "text/plain": [
       "0    Other\n",
       "1    Other\n",
       "2        4\n",
       "dtype: object"
      ]
     },
     "execution_count": 148,
     "metadata": {},
     "output_type": "execute_result"
    }
   ],
   "source": [
    "num_series[:3]"
   ]
  },
  {
   "cell_type": "code",
   "execution_count": 149,
   "id": "f8213ff6",
   "metadata": {},
   "outputs": [
    {
     "data": {
      "text/plain": [
       "0     4\n",
       "1     5\n",
       "2     6\n",
       "3     7\n",
       "4     8\n",
       "5     9\n",
       "6    10\n",
       "dtype: int32"
      ]
     },
     "execution_count": 149,
     "metadata": {},
     "output_type": "execute_result"
    }
   ],
   "source": [
    "# write Pandas Program to find the positions of numbers that are multiple of 5 of a given series\n",
    "num_ser=pd.Series(np.arange(4,11))\n",
    "num_ser"
   ]
  },
  {
   "cell_type": "code",
   "execution_count": 152,
   "id": "d37b8cc9",
   "metadata": {},
   "outputs": [
    {
     "name": "stdout",
     "output_type": "stream",
     "text": [
      "Position of Numbers that are multiple of 5:\n"
     ]
    },
    {
     "data": {
      "text/plain": [
       "(array([1, 6], dtype=int64),)"
      ]
     },
     "execution_count": 152,
     "metadata": {},
     "output_type": "execute_result"
    }
   ],
   "source": [
    "result=np.where(num_ser%5==0)\n",
    "print(\"Position of Numbers that are multiple of 5:\")\n",
    "result"
   ]
  },
  {
   "cell_type": "code",
   "execution_count": 153,
   "id": "bc937552",
   "metadata": {},
   "outputs": [
    {
     "data": {
      "text/plain": [
       "5"
      ]
     },
     "execution_count": 153,
     "metadata": {},
     "output_type": "execute_result"
    }
   ],
   "source": [
    "num_ser[1]"
   ]
  },
  {
   "cell_type": "code",
   "execution_count": 154,
   "id": "58c50c13",
   "metadata": {},
   "outputs": [
    {
     "data": {
      "text/plain": [
       "array([0, 1, 2, 3, 4, 5, 6, 7, 8, 9])"
      ]
     },
     "execution_count": 154,
     "metadata": {},
     "output_type": "execute_result"
    }
   ],
   "source": [
    "np.arange(0,1)"
   ]
  },
  {
   "cell_type": "code",
   "execution_count": 156,
   "id": "b979d988",
   "metadata": {},
   "outputs": [
    {
     "data": {
      "text/plain": [
       "0    0\n",
       "1    1\n",
       "2    1\n",
       "3    0\n",
       "4    3\n",
       "5    4\n",
       "6    4\n",
       "7    2\n",
       "8    3\n",
       "dtype: int32"
      ]
     },
     "execution_count": 156,
     "metadata": {},
     "output_type": "execute_result"
    }
   ],
   "source": [
    "# write a Pandas Program to extract items at given positions of a given series\n",
    "s=pd.Series(np.random.randint(0,5,9))\n",
    "s"
   ]
  },
  {
   "cell_type": "code",
   "execution_count": 158,
   "id": "1aa9debf",
   "metadata": {},
   "outputs": [
    {
     "name": "stdout",
     "output_type": "stream",
     "text": [
      "Extract the position of the given Number\n",
      "0    0\n",
      "2    1\n",
      "6    4\n",
      "7    2\n",
      "dtype: int32\n"
     ]
    }
   ],
   "source": [
    "element_pos=[0,2,6,7]\n",
    "result=s.take(element_pos)\n",
    "\n",
    "print(\"Extract the position of the given Number\")\n",
    "print(result)"
   ]
  },
  {
   "cell_type": "code",
   "execution_count": 162,
   "id": "4abe3e42",
   "metadata": {},
   "outputs": [
    {
     "data": {
      "text/plain": [
       "0       php\n",
       "1      java\n",
       "2    python\n",
       "3        c#\n",
       "dtype: object"
      ]
     },
     "execution_count": 162,
     "metadata": {},
     "output_type": "execute_result"
    }
   ],
   "source": [
    "# write a pandas Program to conver the First and Last character of each word as capitalise\n",
    "\n",
    "f=pd.Series(data=['php','java','python','c#'])\n",
    "f"
   ]
  },
  {
   "cell_type": "code",
   "execution_count": 177,
   "id": "719d4a66",
   "metadata": {},
   "outputs": [
    {
     "data": {
      "text/plain": [
       "0       PhP\n",
       "1      JavA\n",
       "2    PythoN\n",
       "3        C#\n",
       "dtype: object"
      ]
     },
     "execution_count": 177,
     "metadata": {},
     "output_type": "execute_result"
    }
   ],
   "source": [
    "result=f.map(lambda x:x[0].upper()+x[1:-1]+x[-1].upper())\n",
    "result"
   ]
  },
  {
   "cell_type": "code",
   "execution_count": 187,
   "id": "32d15145",
   "metadata": {},
   "outputs": [
    {
     "name": "stdout",
     "output_type": "stream",
     "text": [
      "Original Number\n",
      "[1, 3, 8, 10, 11, 15]\n"
     ]
    }
   ],
   "source": [
    "# write a Pandas Program to compute difference of differences between consecutive numbers of a given series\n",
    "ser=pd.Series(data=[1,3,8,10,11,15])\n",
    "print(\"Original Number\")\n",
    "print(ser.tolist())"
   ]
  },
  {
   "cell_type": "code",
   "execution_count": 184,
   "id": "15ff7fef",
   "metadata": {},
   "outputs": [
    {
     "name": "stdout",
     "output_type": "stream",
     "text": [
      "Difference of Differences between consecutive numbers of the said series:\n",
      "[nan, 2.0, 5.0, 2.0, 1.0, 4.0]\n"
     ]
    }
   ],
   "source": [
    "print(\"Difference of Differences between consecutive numbers of the said series:\")\n",
    "print(ser.diff().tolist())"
   ]
  },
  {
   "cell_type": "code",
   "execution_count": 186,
   "id": "24bce17d",
   "metadata": {},
   "outputs": [
    {
     "data": {
      "text/plain": [
       "[nan, nan, 3.0, -3.0, -1.0, 3.0]"
      ]
     },
     "execution_count": 186,
     "metadata": {},
     "output_type": "execute_result"
    }
   ],
   "source": [
    "ser.diff().diff().tolist()"
   ]
  },
  {
   "cell_type": "code",
   "execution_count": 190,
   "id": "59e3f33a",
   "metadata": {},
   "outputs": [
    {
     "data": {
      "text/plain": [
       "0         01 Jan 2015\n",
       "1          10-02-2016\n",
       "2            20180307\n",
       "3          2014/05/06\n",
       "4          2016-04-12\n",
       "5    2019-04-06T11:20\n",
       "dtype: object"
      ]
     },
     "execution_count": 190,
     "metadata": {},
     "output_type": "execute_result"
    }
   ],
   "source": [
    "# write a Pandas program to convert a series of date strings to a time series.\n",
    "\n",
    "day_series=pd.Series(data=['01 Jan 2015','10-02-2016','20180307','2014/05/06','2016-04-12','2019-04-06T11:20'])\n",
    "day_series"
   ]
  },
  {
   "cell_type": "code",
   "execution_count": 191,
   "id": "068827a2",
   "metadata": {},
   "outputs": [],
   "source": [
    "time_ser=pd.to_datetime(day_series)"
   ]
  },
  {
   "cell_type": "code",
   "execution_count": 192,
   "id": "81dfec34",
   "metadata": {},
   "outputs": [
    {
     "data": {
      "text/plain": [
       "0   2015-01-01 00:00:00\n",
       "1   2016-10-02 00:00:00\n",
       "2   2018-03-07 00:00:00\n",
       "3   2014-05-06 00:00:00\n",
       "4   2016-04-12 00:00:00\n",
       "5   2019-04-06 11:20:00\n",
       "dtype: datetime64[ns]"
      ]
     },
     "execution_count": 192,
     "metadata": {},
     "output_type": "execute_result"
    }
   ],
   "source": [
    "time_ser"
   ]
  },
  {
   "cell_type": "code",
   "execution_count": 198,
   "id": "a09901d9",
   "metadata": {
    "scrolled": true
   },
   "outputs": [
    {
     "name": "stdout",
     "output_type": "stream",
     "text": [
      "Original Series\n",
      "0    Mar 2015\n",
      "1    Feb 2016\n",
      "2    Mar 2017\n",
      "3    Apr 2018\n",
      "4    May 2019\n",
      "dtype: object\n",
      "Enter the Day12\n",
      "Enter the Day14\n",
      "Enter the Day15\n",
      "Enter the Day17\n",
      "Enter the Day18\n"
     ]
    },
    {
     "data": {
      "text/plain": [
       "0   2015-03-12\n",
       "1   2016-02-14\n",
       "2   2017-03-15\n",
       "3   2018-04-17\n",
       "4   2019-05-18\n",
       "dtype: datetime64[ns]"
      ]
     },
     "execution_count": 198,
     "metadata": {},
     "output_type": "execute_result"
    }
   ],
   "source": [
    "# write a Pandas Program to convert year-month string to dates adding a specified day of the month.\n",
    "from dateutil.parser import parse\n",
    "date_series=pd.Series(data=['Mar 2015','Feb 2016','Mar 2017','Apr 2018','May 2019'])\n",
    "print(\"Original Series\")\n",
    "print(date_series)\n",
    "\n",
    "result=date_series.map(lambda d: parse((input(\"Enter the Day\"))+d))\n",
    "result"
   ]
  },
  {
   "cell_type": "code",
   "execution_count": 199,
   "id": "134eb014",
   "metadata": {},
   "outputs": [
    {
     "name": "stdout",
     "output_type": "stream",
     "text": [
      "Original Series\n",
      "0       Red\n",
      "1     Green\n",
      "2    Orange\n",
      "3      Pink\n",
      "4    Yellow\n",
      "5     White\n",
      "dtype: object\n"
     ]
    }
   ],
   "source": [
    "# Write a Pandas program to filter words from a given series that contain atleast two vowels\n",
    "from collections import Counter \n",
    "ser=pd.Series(data=['Red','Green','Orange','Pink','Yellow','White'])\n",
    "print(\"Original Series\")\n",
    "print(ser)"
   ]
  },
  {
   "cell_type": "code",
   "execution_count": 202,
   "id": "3db0e7b8",
   "metadata": {},
   "outputs": [
    {
     "name": "stdout",
     "output_type": "stream",
     "text": [
      "Filtered Words\n"
     ]
    },
    {
     "data": {
      "text/plain": [
       "1     Green\n",
       "2    Orange\n",
       "4    Yellow\n",
       "5     White\n",
       "dtype: object"
      ]
     },
     "execution_count": 202,
     "metadata": {},
     "output_type": "execute_result"
    }
   ],
   "source": [
    "print(\"Filtered Words\")\n",
    "result=ser.map(lambda x: sum([Counter(x.lower()).get(i,0) for i in list('aeiou')]))>=2\n",
    "ser[result]"
   ]
  },
  {
   "cell_type": "code",
   "execution_count": 207,
   "id": "67134097",
   "metadata": {},
   "outputs": [
    {
     "name": "stdout",
     "output_type": "stream",
     "text": [
      "[1, 2, 3, 4, 5, 6, 7, 8, 9, 10, 11]\n",
      "[11, 10, 9, 8, 7, 6, 5, 4, 3, 2, 1]\n"
     ]
    }
   ],
   "source": [
    "# calculate Euclidean Distance\n",
    "x=pd.Series(np.arange(1,12))\n",
    "print(x.tolist())\n",
    "\n",
    "y=pd.Series([11,10,9,8,7,6,5,4,3,2,1])\n",
    "print(y.tolist())"
   ]
  },
  {
   "cell_type": "code",
   "execution_count": 208,
   "id": "f7202863",
   "metadata": {},
   "outputs": [
    {
     "data": {
      "text/plain": [
       "20.97617696340303"
      ]
     },
     "execution_count": 208,
     "metadata": {},
     "output_type": "execute_result"
    }
   ],
   "source": [
    "# will calculate the Eclidean distance\n",
    "np.linalg.norm(x-y)"
   ]
  },
  {
   "cell_type": "code",
   "execution_count": null,
   "id": "86104f37",
   "metadata": {},
   "outputs": [],
   "source": [
    "# Pandas program to find the positions of the values neighboured by smaller values on both sides in a given series\n",
    "nums=pd.Series([1,8,7,5,6,5,3,4,7,1])\n",
    "print(\"Original Series:\")\n",
    "print(nums)\n",
    "print(\"\\nPositions of the values surrounded by smaller values on both sides: \")\n",
    "temp=np.diff(np.sign(np.diff(nums)))\n",
    "resul "
   ]
  }
 ],
 "metadata": {
  "kernelspec": {
   "display_name": "Python 3 (ipykernel)",
   "language": "python",
   "name": "python3"
  },
  "language_info": {
   "codemirror_mode": {
    "name": "ipython",
    "version": 3
   },
   "file_extension": ".py",
   "mimetype": "text/x-python",
   "name": "python",
   "nbconvert_exporter": "python",
   "pygments_lexer": "ipython3",
   "version": "3.11.4"
  }
 },
 "nbformat": 4,
 "nbformat_minor": 5
}
